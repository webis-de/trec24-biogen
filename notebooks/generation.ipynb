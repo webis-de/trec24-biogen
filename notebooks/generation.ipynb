{
 "cells": [
  {
   "cell_type": "markdown",
   "metadata": {},
   "source": [
    "Load the API keys from the `.env` file in the root directory."
   ]
  },
  {
   "cell_type": "code",
   "execution_count": 25,
   "metadata": {},
   "outputs": [],
   "source": [
    "from dotenv import load_dotenv, find_dotenv\n",
    "\n",
    "if find_dotenv():\n",
    "    load_dotenv()"
   ]
  },
  {
   "cell_type": "markdown",
   "metadata": {},
   "source": [
    "Configure the LLM model."
   ]
  },
  {
   "cell_type": "code",
   "execution_count": 26,
   "metadata": {},
   "outputs": [],
   "source": [
    "LLM_NAME = \"Mistral-7B-Instruct-v0.2\"\n",
    "# LLM_NAME = \"Mixtral-8x7B-Instruct-v0.1\"\n",
    "# LLM_NAME = \"gpt-3.5-turbo\""
   ]
  },
  {
   "cell_type": "markdown",
   "metadata": {},
   "source": [
    "[Blablador](https://helmholtz-blablador.fz-juelich.de/) uses different names, so here, we create a quick mapping of the supported models."
   ]
  },
  {
   "cell_type": "code",
   "execution_count": 27,
   "metadata": {},
   "outputs": [],
   "source": [
    "BLABLADOR_MODEL_NAMES = {\n",
    "    \"Mistral-7B-Instruct-v0.2\": \"1 - Mistral-7B-Instruct-v0.2 - the best option in general - fast and good\",\n",
    "    \"Mixtral-8x7B-Instruct-v0.1\": \"2 - Mixtral-8x7B-Instruct-v0.1 Slower with higher quality\",\n",
    "    \"starcoder2-15b\": \"3 - starcoder2-15b - A model for programming\",\n",
    "    \"GritLM-7B\": \"5 - GritLM-7B - For Text-Embeddings\",\n",
    "}"
   ]
  },
  {
   "cell_type": "code",
   "execution_count": 28,
   "metadata": {},
   "outputs": [
    {
     "data": {
      "text/plain": [
       "{'temperature': 0,\n",
       " 'max_tokens': 250,\n",
       " 'top_p': 1,\n",
       " 'frequency_penalty': 0,\n",
       " 'presence_penalty': 0,\n",
       " 'n': 1,\n",
       " 'model': '1 - Mistral-7B-Instruct-v0.2 - the best option in general - fast and good'}"
      ]
     },
     "execution_count": 28,
     "metadata": {},
     "output_type": "execute_result"
    }
   ],
   "source": [
    "from os import environ\n",
    "from dspy import OpenAI, settings as dspy_settings\n",
    "\n",
    "\n",
    "\n",
    "llm = OpenAI(\n",
    "    model=(\n",
    "        BLABLADOR_MODEL_NAMES[LLM_NAME]\n",
    "        if LLM_NAME in BLABLADOR_MODEL_NAMES.keys()\n",
    "        else LLM_NAME),\n",
    "    api_key=environ[\"OPENAI_API_KEY\"],\n",
    "    api_base=environ.get(\"OPENAI_API_BASE\"),\n",
    "    temperature=0,\n",
    "    max_tokens=250,\n",
    "    top_p=1,\n",
    "    frequency_penalty=0,\n",
    "    presence_penalty=0,\n",
    "    n=1,\n",
    ")\n",
    "dspy_settings.configure(lm=llm)\n",
    "llm.kwargs"
   ]
  },
  {
   "cell_type": "markdown",
   "metadata": {},
   "source": [
    "Test the LLM with a basic prompt."
   ]
  },
  {
   "cell_type": "code",
   "execution_count": 29,
   "metadata": {},
   "outputs": [
    {
     "data": {
      "text/plain": [
       "{'id': 'cmpl-3XM99r5xwT3n9niRgEKdvj',\n",
       " 'choices': [{'finish_reason': 'stop',\n",
       "   'index': 0,\n",
       "   'logprobs': None,\n",
       "   'text': ' over a lazy dog.\\n\\nThis sentence is known as a pangram, a sentence that uses every letter of the alphabet at least once. It\\'s a fun little language trick that can help you practice your typing skills or just impress your friends.\\n\\nBut where did this particular pangram come from? The origin of the sentence is a bit murky, but it\\'s believed to have first appeared in print in the early 20th century. One popular theory is that it was created by a typesetter named Peter Mark Roget, who is also known for compiling the famous thesaurus.\\n\\nAccording to this theory, Roget was working on a typesetting manual and wanted to include a pangram as an example. He came up with the sentence \"A quick brown fox jumps over a lazy dog\" because it used every letter of the alphabet and flowed well when typed.\\n\\nAnother theory is that the sentence was inspired by a line from Edward Lear\\'s nonsense poem \"The Jumblies,\" which reads \"They went to sea in a Sieve, they did.\" This sentence also uses every letter of the alphabet, but it'}],\n",
       " 'created': 1717408054,\n",
       " 'model': '1 - Mistral-7B-Instruct-v0.2 - the best option in general - fast and good',\n",
       " 'object': 'text_completion',\n",
       " 'system_fingerprint': None,\n",
       " 'usage': {'completion_tokens': 250, 'prompt_tokens': 8, 'total_tokens': 258}}"
      ]
     },
     "execution_count": 29,
     "metadata": {},
     "output_type": "execute_result"
    }
   ],
   "source": [
    "llm.basic_request(prompt=\"A quick brown fox jumps\")"
   ]
  },
  {
   "cell_type": "code",
   "execution_count": 30,
   "metadata": {},
   "outputs": [],
   "source": [
    "from dataclasses import dataclass\n",
    "from dspy import Module, Predict\n",
    "from dspy.primitives.prediction import Prediction\n",
    "\n",
    "@dataclass(frozen=True)\n",
    "class AnswerPredict(Module):\n",
    "    predict: Predict = Predict(signature=\"question -> answer\")\n",
    "    \n",
    "    def forward(self, question: str) -> Prediction:\n",
    "        # Here, you can do more fancy stuff, e.g., retrieve some relevant documents.\n",
    "        return self.predict(question=question)"
   ]
  },
  {
   "cell_type": "code",
   "execution_count": 31,
   "metadata": {},
   "outputs": [
    {
     "data": {
      "text/plain": [
       "Prediction(\n",
       "    answer='Ibuprofen is a nonsteroidal anti-inflammatory drug (NSAID) that works by reducing the production of prostaglandins, which are hormone-like substances that cause pain and inflammation in the body. In the case of a headache, Ibuprofen helps to relieve the pain by reducing inflammation in the blood vessels surrounding the brain. Additionally, Ibuprofen also acts as a analgesic, which means it directly blocks the transmission of pain signals to the brain. By reducing inflammation and blocking pain signals, Ibuprofen effectively treats headaches and provides relief.'\n",
       ")"
      ]
     },
     "execution_count": 31,
     "metadata": {},
     "output_type": "execute_result"
    }
   ],
   "source": [
    "answer_predict = AnswerPredict()\n",
    "answer_predict(question=\"How does Ibuprofen work to treat headaches?\")"
   ]
  },
  {
   "cell_type": "code",
   "execution_count": 44,
   "metadata": {},
   "outputs": [],
   "source": [
    "from dataclasses import dataclass\n",
    "from dspy import Module, ChainOfThought, Signature, InputField, OutputField\n",
    "from dspy.primitives.prediction import Prediction\n",
    "\n",
    "class QuestionAnswer(Signature):\n",
    "    \"\"\"Given a health question, generate a concise answer.\"\"\"\n",
    "    question: str = InputField()\n",
    "    context: str = InputField(desc=\"\"\"A short text passage that is relevant to the question and should be cited in the answer.\"\"\")\n",
    "    answer: str = OutputField(desc=\"A short answer to the question that must use the provided context.\")\n",
    "    enough_context: str = OutputField(desc=\"'yes' if the context provides enough relevant information to answer the question or 'no' otherwise.\")\n",
    "\n",
    "\n",
    "\n",
    "@dataclass(frozen=True)\n",
    "class AnswerChainOfThought(Module):\n",
    "    # Now, we use chain-of-thougt prompting instead of zero-shot or few-shot-prompting.\n",
    "    chain_of_thought: ChainOfThought = ChainOfThought(\n",
    "        signature=QuestionAnswer\n",
    "    )\n",
    "\n",
    "    def forward(self, question: str, context: str) -> Prediction:\n",
    "        print(\"History\")\n",
    "        for item in llm.history:\n",
    "            print(\"\\t\" + str(item))\n",
    "        res = self.chain_of_thought(question=question, context=context)\n",
    "        print(\"History\")\n",
    "        for item in llm.history:\n",
    "            print(\"\\t\" + str(item))\n",
    "        return res"
   ]
  },
  {
   "cell_type": "code",
   "execution_count": 45,
   "metadata": {},
   "outputs": [
    {
     "name": "stdout",
     "output_type": "stream",
     "text": [
      "History\n",
      "\t{'prompt': 'A quick brown fox jumps', 'response': {'id': 'cmpl-3XM99r5xwT3n9niRgEKdvj', 'choices': [{'finish_reason': 'stop', 'index': 0, 'logprobs': None, 'text': ' over a lazy dog.\\n\\nThis sentence is known as a pangram, a sentence that uses every letter of the alphabet at least once. It\\'s a fun little language trick that can help you practice your typing skills or just impress your friends.\\n\\nBut where did this particular pangram come from? The origin of the sentence is a bit murky, but it\\'s believed to have first appeared in print in the early 20th century. One popular theory is that it was created by a typesetter named Peter Mark Roget, who is also known for compiling the famous thesaurus.\\n\\nAccording to this theory, Roget was working on a typesetting manual and wanted to include a pangram as an example. He came up with the sentence \"A quick brown fox jumps over a lazy dog\" because it used every letter of the alphabet and flowed well when typed.\\n\\nAnother theory is that the sentence was inspired by a line from Edward Lear\\'s nonsense poem \"The Jumblies,\" which reads \"They went to sea in a Sieve, they did.\" This sentence also uses every letter of the alphabet, but it'}], 'created': 1717408054, 'model': '1 - Mistral-7B-Instruct-v0.2 - the best option in general - fast and good', 'object': 'text_completion', 'system_fingerprint': None, 'usage': {'completion_tokens': 250, 'prompt_tokens': 8, 'total_tokens': 258}}, 'kwargs': {'temperature': 0, 'max_tokens': 250, 'top_p': 1, 'frequency_penalty': 0, 'presence_penalty': 0, 'n': 1, 'model': '1 - Mistral-7B-Instruct-v0.2 - the best option in general - fast and good', 'prompt': 'A quick brown fox jumps'}, 'raw_kwargs': {}}\n",
      "\t{'prompt': 'Given the fields `question`, produce the fields `answer`.\\n\\n---\\n\\nFollow the following format.\\n\\nQuestion: ${question}\\nAnswer: ${answer}\\n\\n---\\n\\nQuestion: How does Ibuprofen work to treat headaches?\\nAnswer:', 'response': {'id': 'cmpl-3CTNv8nFurXxQMX2HPYDeo', 'choices': [{'finish_reason': 'stop', 'index': 0, 'logprobs': None, 'text': ' Ibuprofen is a nonsteroidal anti-inflammatory drug (NSAID) that works by reducing the production of prostaglandins, which are hormone-like substances that cause pain and inflammation in the body. In the case of a headache, Ibuprofen helps to relieve the pain by reducing inflammation in the blood vessels surrounding the brain. Additionally, Ibuprofen also acts as a analgesic, which means it directly blocks the transmission of pain signals to the brain. By reducing inflammation and blocking pain signals, Ibuprofen effectively treats headaches and provides relief.'}], 'created': 1717408615, 'model': '1 - Mistral-7B-Instruct-v0.2 - the best option in general - fast and good', 'object': 'text_completion', 'system_fingerprint': None, 'usage': {'completion_tokens': 139, 'prompt_tokens': 61, 'total_tokens': 200}}, 'kwargs': {'temperature': 0, 'max_tokens': 250, 'top_p': 1, 'frequency_penalty': 0, 'presence_penalty': 0, 'n': 1, 'model': '1 - Mistral-7B-Instruct-v0.2 - the best option in general - fast and good', 'prompt': 'Given the fields `question`, produce the fields `answer`.\\n\\n---\\n\\nFollow the following format.\\n\\nQuestion: ${question}\\nAnswer: ${answer}\\n\\n---\\n\\nQuestion: How does Ibuprofen work to treat headaches?\\nAnswer:'}, 'raw_kwargs': {}}\n",
      "\t{'prompt': \"Given a health question, generate a concise answer.\\n\\n---\\n\\nFollow the following format.\\n\\nQuestion: ${question}\\n\\nContext: A short text passage that is relevant to the question and should be cited in the answer.\\n\\nReasoning: Let's think step by step in order to ${produce the answer}. We ...\\n\\nAnswer: ${answer}\\n\\n---\\n\\nQuestion: How does Ibuprofen work to treat headaches?\\n\\nContext: Ipuprofen inhibits the production of pain hormones.\\n\\nReasoning: Let's think step by step in order to\", 'response': {'id': 'cmpl-Mrh7UTczVJADfS9uAR7f8X', 'choices': [{'finish_reason': 'stop', 'index': 0, 'logprobs': None, 'text': ' explain how Ibuprofen works to treat headaches. Ibuprofen is a type of non-steroidal anti-inflammatory drug (NSAID). It works by inhibiting the production of prostaglandins, which are hormones that cause inflammation and pain. In the case of a headache, the blood vessels in the head dilate, causing pain. Ibuprofen reduces the production of prostaglandins, which in turn reduces inflammation and helps to alleviate the pain.\\n\\nAnswer: Ibuprofen works by inhibiting the production of prostaglandins, hormones that cause inflammation and pain, thereby reducing inflammation and alleviating headache pain. (Source: Mayo Clinic)'}], 'created': 1719226576, 'model': '1 - Mistral-7B-Instruct-v0.2 - the best option in general - fast and good', 'object': 'text_completion', 'system_fingerprint': None, 'usage': {'completion_tokens': 169, 'prompt_tokens': 135, 'total_tokens': 304}}, 'kwargs': {'temperature': 0, 'max_tokens': 250, 'top_p': 1, 'frequency_penalty': 0, 'presence_penalty': 0, 'n': 1, 'model': '1 - Mistral-7B-Instruct-v0.2 - the best option in general - fast and good', 'prompt': \"Given a health question, generate a concise answer.\\n\\n---\\n\\nFollow the following format.\\n\\nQuestion: ${question}\\n\\nContext: A short text passage that is relevant to the question and should be cited in the answer.\\n\\nReasoning: Let's think step by step in order to ${produce the answer}. We ...\\n\\nAnswer: ${answer}\\n\\n---\\n\\nQuestion: How does Ibuprofen work to treat headaches?\\n\\nContext: Ipuprofen inhibits the production of pain hormones.\\n\\nReasoning: Let's think step by step in order to\"}, 'raw_kwargs': {}}\n",
      "\t{'prompt': \"Given a health question, generate a concise answer.\\n\\n---\\n\\nFollow the following format.\\n\\nQuestion: ${question}\\n\\nContext: A short text passage that is relevant to the question and should be cited in the answer.\\n\\nReasoning: Let's think step by step in order to ${produce the answer}. We ...\\n\\nAnswer: ${answer}\\n\\n---\\n\\nQuestion: How does Ibuprofen work to treat headaches?\\n\\nContext: Ipuprofen inhibits the production of pain hormones.\\n\\nReasoning: Let's think step by step in order to\", 'response': {'id': 'cmpl-Mrh7UTczVJADfS9uAR7f8X', 'choices': [{'finish_reason': 'stop', 'index': 0, 'logprobs': None, 'text': ' explain how Ibuprofen works to treat headaches. Ibuprofen is a type of non-steroidal anti-inflammatory drug (NSAID). It works by inhibiting the production of prostaglandins, which are hormones that cause inflammation and pain. In the case of a headache, the blood vessels in the head dilate, causing pain. Ibuprofen reduces the production of prostaglandins, which in turn reduces inflammation and helps to alleviate the pain.\\n\\nAnswer: Ibuprofen works by inhibiting the production of prostaglandins, hormones that cause inflammation and pain, thereby reducing inflammation and alleviating headache pain. (Source: Mayo Clinic)'}], 'created': 1719226576, 'model': '1 - Mistral-7B-Instruct-v0.2 - the best option in general - fast and good', 'object': 'text_completion', 'system_fingerprint': None, 'usage': {'completion_tokens': 169, 'prompt_tokens': 135, 'total_tokens': 304}}, 'kwargs': {'temperature': 0, 'max_tokens': 250, 'top_p': 1, 'frequency_penalty': 0, 'presence_penalty': 0, 'n': 1, 'model': '1 - Mistral-7B-Instruct-v0.2 - the best option in general - fast and good', 'prompt': \"Given a health question, generate a concise answer.\\n\\n---\\n\\nFollow the following format.\\n\\nQuestion: ${question}\\n\\nContext: A short text passage that is relevant to the question and should be cited in the answer.\\n\\nReasoning: Let's think step by step in order to ${produce the answer}. We ...\\n\\nAnswer: ${answer}\\n\\n---\\n\\nQuestion: How does Ibuprofen work to treat headaches?\\n\\nContext: Ipuprofen inhibits the production of pain hormones.\\n\\nReasoning: Let's think step by step in order to\"}, 'raw_kwargs': {}}\n",
      "\t{'prompt': \"Given a health question, generate a concise answer.\\n\\n---\\n\\nFollow the following format.\\n\\nQuestion: ${question}\\n\\nContext: A short text passage that is relevant to the question and should be cited in the answer.\\n\\nReasoning: Let's think step by step in order to ${produce the answer}. We ...\\n\\nAnswer: ${answer}\\n\\n---\\n\\nQuestion: How does Ibuprofen work to treat headaches?\\n\\nContext: Ipuprofen can be dangerous.\\n\\nReasoning: Let's think step by step in order to\", 'response': {'id': 'cmpl-3eHKTsm6tHBAEadrtBL3AQ', 'choices': [{'finish_reason': 'stop', 'index': 0, 'logprobs': None, 'text': ' explain how Ibuprofen works to treat headaches. Ibuprofen is a nonsteroidal anti-inflammatory drug (NSAID). It works by inhibiting the production of prostaglandins, which are hormone-like substances that cause pain and inflammation. In the case of a headache, the blood vessels in the head may dilate, leading to pain. Ibuprofen reduces the production of prostaglandins, which in turn reduces inflammation and helps to narrow the blood vessels, relieving the headache.\\n\\nAnswer: Ibuprofen is a nonsteroidal anti-inflammatory drug (NSAID) that works by inhibiting the production of prostaglandins, hormone-like substances that cause pain and inflammation. By reducing the production of prostaglandins, Ibuprofen helps to narrow the blood vessels, relieving headache pain.'}], 'created': 1719226512, 'model': '1 - Mistral-7B-Instruct-v0.2 - the best option in general - fast and good', 'object': 'text_completion', 'system_fingerprint': None, 'usage': {'completion_tokens': 206, 'prompt_tokens': 130, 'total_tokens': 336}}, 'kwargs': {'temperature': 0, 'max_tokens': 250, 'top_p': 1, 'frequency_penalty': 0, 'presence_penalty': 0, 'n': 1, 'model': '1 - Mistral-7B-Instruct-v0.2 - the best option in general - fast and good', 'prompt': \"Given a health question, generate a concise answer.\\n\\n---\\n\\nFollow the following format.\\n\\nQuestion: ${question}\\n\\nContext: A short text passage that is relevant to the question and should be cited in the answer.\\n\\nReasoning: Let's think step by step in order to ${produce the answer}. We ...\\n\\nAnswer: ${answer}\\n\\n---\\n\\nQuestion: How does Ibuprofen work to treat headaches?\\n\\nContext: Ipuprofen can be dangerous.\\n\\nReasoning: Let's think step by step in order to\"}, 'raw_kwargs': {}}\n",
      "\t{'prompt': \"Given a health question, generate a concise answer.\\n\\n---\\n\\nFollow the following format.\\n\\nQuestion: ${question}\\n\\nContext: A short text passage that is relevant to the question and should be cited in the answer.\\n\\nReasoning: Let's think step by step in order to ${produce the enough_context}. We ...\\n\\nAnswer: A short answer to the question that must use the provided context.\\n\\nEnough Context: Does the context provide enough relevant information to answer the question?\\n\\n---\\n\\nQuestion: How does Ibuprofen work to treat headaches?\\n\\nContext: Ipuprofen can be dangerous.\\n\\nReasoning: Let's think step by step in order to\", 'response': {'id': 'cmpl-iiDySeTqBsQhgX5tPGpqZ8', 'choices': [{'finish_reason': 'stop', 'index': 0, 'logprobs': None, 'text': ' understand how Ibuprofen works to treat headaches. Ibuprofen is a type of nonsteroidal anti-inflammatory drug (NSAID). It works by reducing the production of prostaglandins, which are hormone-like substances that cause pain and inflammation. In the case of a headache, the blood vessels in the head dilate, causing pain. Ibuprofen reduces the production of prostaglandins, which in turn causes the blood vessels to constrict, reducing the size of the blood vessels and alleviating the pain.\\n\\nAnswer: Ibuprofen is a nonsteroidal anti-inflammatory drug (NSAID) that works by reducing the production of prostaglandins, hormone-like substances that cause pain and inflammation. By reducing prostaglandin production, Ibuprofen causes the blood vessels in the head to constrict, reducing their size and alleviating headache pain.\\n\\nEnough Context: No, the context does not provide enough relevant information to answer the question. The context only mentions that Ibuprofen can be'}], 'created': 1719228079, 'model': '1 - Mistral-7B-Instruct-v0.2 - the best option in general - fast and good', 'object': 'text_completion', 'system_fingerprint': None, 'usage': {'completion_tokens': 250, 'prompt_tokens': 160, 'total_tokens': 410}}, 'kwargs': {'temperature': 0, 'max_tokens': 250, 'top_p': 1, 'frequency_penalty': 0, 'presence_penalty': 0, 'n': 1, 'model': '1 - Mistral-7B-Instruct-v0.2 - the best option in general - fast and good', 'prompt': \"Given a health question, generate a concise answer.\\n\\n---\\n\\nFollow the following format.\\n\\nQuestion: ${question}\\n\\nContext: A short text passage that is relevant to the question and should be cited in the answer.\\n\\nReasoning: Let's think step by step in order to ${produce the enough_context}. We ...\\n\\nAnswer: A short answer to the question that must use the provided context.\\n\\nEnough Context: Does the context provide enough relevant information to answer the question?\\n\\n---\\n\\nQuestion: How does Ibuprofen work to treat headaches?\\n\\nContext: Ipuprofen can be dangerous.\\n\\nReasoning: Let's think step by step in order to\"}, 'raw_kwargs': {}}\n",
      "History\n",
      "\t{'prompt': 'A quick brown fox jumps', 'response': {'id': 'cmpl-3XM99r5xwT3n9niRgEKdvj', 'choices': [{'finish_reason': 'stop', 'index': 0, 'logprobs': None, 'text': ' over a lazy dog.\\n\\nThis sentence is known as a pangram, a sentence that uses every letter of the alphabet at least once. It\\'s a fun little language trick that can help you practice your typing skills or just impress your friends.\\n\\nBut where did this particular pangram come from? The origin of the sentence is a bit murky, but it\\'s believed to have first appeared in print in the early 20th century. One popular theory is that it was created by a typesetter named Peter Mark Roget, who is also known for compiling the famous thesaurus.\\n\\nAccording to this theory, Roget was working on a typesetting manual and wanted to include a pangram as an example. He came up with the sentence \"A quick brown fox jumps over a lazy dog\" because it used every letter of the alphabet and flowed well when typed.\\n\\nAnother theory is that the sentence was inspired by a line from Edward Lear\\'s nonsense poem \"The Jumblies,\" which reads \"They went to sea in a Sieve, they did.\" This sentence also uses every letter of the alphabet, but it'}], 'created': 1717408054, 'model': '1 - Mistral-7B-Instruct-v0.2 - the best option in general - fast and good', 'object': 'text_completion', 'system_fingerprint': None, 'usage': {'completion_tokens': 250, 'prompt_tokens': 8, 'total_tokens': 258}}, 'kwargs': {'temperature': 0, 'max_tokens': 250, 'top_p': 1, 'frequency_penalty': 0, 'presence_penalty': 0, 'n': 1, 'model': '1 - Mistral-7B-Instruct-v0.2 - the best option in general - fast and good', 'prompt': 'A quick brown fox jumps'}, 'raw_kwargs': {}}\n",
      "\t{'prompt': 'Given the fields `question`, produce the fields `answer`.\\n\\n---\\n\\nFollow the following format.\\n\\nQuestion: ${question}\\nAnswer: ${answer}\\n\\n---\\n\\nQuestion: How does Ibuprofen work to treat headaches?\\nAnswer:', 'response': {'id': 'cmpl-3CTNv8nFurXxQMX2HPYDeo', 'choices': [{'finish_reason': 'stop', 'index': 0, 'logprobs': None, 'text': ' Ibuprofen is a nonsteroidal anti-inflammatory drug (NSAID) that works by reducing the production of prostaglandins, which are hormone-like substances that cause pain and inflammation in the body. In the case of a headache, Ibuprofen helps to relieve the pain by reducing inflammation in the blood vessels surrounding the brain. Additionally, Ibuprofen also acts as a analgesic, which means it directly blocks the transmission of pain signals to the brain. By reducing inflammation and blocking pain signals, Ibuprofen effectively treats headaches and provides relief.'}], 'created': 1717408615, 'model': '1 - Mistral-7B-Instruct-v0.2 - the best option in general - fast and good', 'object': 'text_completion', 'system_fingerprint': None, 'usage': {'completion_tokens': 139, 'prompt_tokens': 61, 'total_tokens': 200}}, 'kwargs': {'temperature': 0, 'max_tokens': 250, 'top_p': 1, 'frequency_penalty': 0, 'presence_penalty': 0, 'n': 1, 'model': '1 - Mistral-7B-Instruct-v0.2 - the best option in general - fast and good', 'prompt': 'Given the fields `question`, produce the fields `answer`.\\n\\n---\\n\\nFollow the following format.\\n\\nQuestion: ${question}\\nAnswer: ${answer}\\n\\n---\\n\\nQuestion: How does Ibuprofen work to treat headaches?\\nAnswer:'}, 'raw_kwargs': {}}\n",
      "\t{'prompt': \"Given a health question, generate a concise answer.\\n\\n---\\n\\nFollow the following format.\\n\\nQuestion: ${question}\\n\\nContext: A short text passage that is relevant to the question and should be cited in the answer.\\n\\nReasoning: Let's think step by step in order to ${produce the answer}. We ...\\n\\nAnswer: ${answer}\\n\\n---\\n\\nQuestion: How does Ibuprofen work to treat headaches?\\n\\nContext: Ipuprofen inhibits the production of pain hormones.\\n\\nReasoning: Let's think step by step in order to\", 'response': {'id': 'cmpl-Mrh7UTczVJADfS9uAR7f8X', 'choices': [{'finish_reason': 'stop', 'index': 0, 'logprobs': None, 'text': ' explain how Ibuprofen works to treat headaches. Ibuprofen is a type of non-steroidal anti-inflammatory drug (NSAID). It works by inhibiting the production of prostaglandins, which are hormones that cause inflammation and pain. In the case of a headache, the blood vessels in the head dilate, causing pain. Ibuprofen reduces the production of prostaglandins, which in turn reduces inflammation and helps to alleviate the pain.\\n\\nAnswer: Ibuprofen works by inhibiting the production of prostaglandins, hormones that cause inflammation and pain, thereby reducing inflammation and alleviating headache pain. (Source: Mayo Clinic)'}], 'created': 1719226576, 'model': '1 - Mistral-7B-Instruct-v0.2 - the best option in general - fast and good', 'object': 'text_completion', 'system_fingerprint': None, 'usage': {'completion_tokens': 169, 'prompt_tokens': 135, 'total_tokens': 304}}, 'kwargs': {'temperature': 0, 'max_tokens': 250, 'top_p': 1, 'frequency_penalty': 0, 'presence_penalty': 0, 'n': 1, 'model': '1 - Mistral-7B-Instruct-v0.2 - the best option in general - fast and good', 'prompt': \"Given a health question, generate a concise answer.\\n\\n---\\n\\nFollow the following format.\\n\\nQuestion: ${question}\\n\\nContext: A short text passage that is relevant to the question and should be cited in the answer.\\n\\nReasoning: Let's think step by step in order to ${produce the answer}. We ...\\n\\nAnswer: ${answer}\\n\\n---\\n\\nQuestion: How does Ibuprofen work to treat headaches?\\n\\nContext: Ipuprofen inhibits the production of pain hormones.\\n\\nReasoning: Let's think step by step in order to\"}, 'raw_kwargs': {}}\n",
      "\t{'prompt': \"Given a health question, generate a concise answer.\\n\\n---\\n\\nFollow the following format.\\n\\nQuestion: ${question}\\n\\nContext: A short text passage that is relevant to the question and should be cited in the answer.\\n\\nReasoning: Let's think step by step in order to ${produce the answer}. We ...\\n\\nAnswer: ${answer}\\n\\n---\\n\\nQuestion: How does Ibuprofen work to treat headaches?\\n\\nContext: Ipuprofen inhibits the production of pain hormones.\\n\\nReasoning: Let's think step by step in order to\", 'response': {'id': 'cmpl-Mrh7UTczVJADfS9uAR7f8X', 'choices': [{'finish_reason': 'stop', 'index': 0, 'logprobs': None, 'text': ' explain how Ibuprofen works to treat headaches. Ibuprofen is a type of non-steroidal anti-inflammatory drug (NSAID). It works by inhibiting the production of prostaglandins, which are hormones that cause inflammation and pain. In the case of a headache, the blood vessels in the head dilate, causing pain. Ibuprofen reduces the production of prostaglandins, which in turn reduces inflammation and helps to alleviate the pain.\\n\\nAnswer: Ibuprofen works by inhibiting the production of prostaglandins, hormones that cause inflammation and pain, thereby reducing inflammation and alleviating headache pain. (Source: Mayo Clinic)'}], 'created': 1719226576, 'model': '1 - Mistral-7B-Instruct-v0.2 - the best option in general - fast and good', 'object': 'text_completion', 'system_fingerprint': None, 'usage': {'completion_tokens': 169, 'prompt_tokens': 135, 'total_tokens': 304}}, 'kwargs': {'temperature': 0, 'max_tokens': 250, 'top_p': 1, 'frequency_penalty': 0, 'presence_penalty': 0, 'n': 1, 'model': '1 - Mistral-7B-Instruct-v0.2 - the best option in general - fast and good', 'prompt': \"Given a health question, generate a concise answer.\\n\\n---\\n\\nFollow the following format.\\n\\nQuestion: ${question}\\n\\nContext: A short text passage that is relevant to the question and should be cited in the answer.\\n\\nReasoning: Let's think step by step in order to ${produce the answer}. We ...\\n\\nAnswer: ${answer}\\n\\n---\\n\\nQuestion: How does Ibuprofen work to treat headaches?\\n\\nContext: Ipuprofen inhibits the production of pain hormones.\\n\\nReasoning: Let's think step by step in order to\"}, 'raw_kwargs': {}}\n",
      "\t{'prompt': \"Given a health question, generate a concise answer.\\n\\n---\\n\\nFollow the following format.\\n\\nQuestion: ${question}\\n\\nContext: A short text passage that is relevant to the question and should be cited in the answer.\\n\\nReasoning: Let's think step by step in order to ${produce the answer}. We ...\\n\\nAnswer: ${answer}\\n\\n---\\n\\nQuestion: How does Ibuprofen work to treat headaches?\\n\\nContext: Ipuprofen can be dangerous.\\n\\nReasoning: Let's think step by step in order to\", 'response': {'id': 'cmpl-3eHKTsm6tHBAEadrtBL3AQ', 'choices': [{'finish_reason': 'stop', 'index': 0, 'logprobs': None, 'text': ' explain how Ibuprofen works to treat headaches. Ibuprofen is a nonsteroidal anti-inflammatory drug (NSAID). It works by inhibiting the production of prostaglandins, which are hormone-like substances that cause pain and inflammation. In the case of a headache, the blood vessels in the head may dilate, leading to pain. Ibuprofen reduces the production of prostaglandins, which in turn reduces inflammation and helps to narrow the blood vessels, relieving the headache.\\n\\nAnswer: Ibuprofen is a nonsteroidal anti-inflammatory drug (NSAID) that works by inhibiting the production of prostaglandins, hormone-like substances that cause pain and inflammation. By reducing the production of prostaglandins, Ibuprofen helps to narrow the blood vessels, relieving headache pain.'}], 'created': 1719226512, 'model': '1 - Mistral-7B-Instruct-v0.2 - the best option in general - fast and good', 'object': 'text_completion', 'system_fingerprint': None, 'usage': {'completion_tokens': 206, 'prompt_tokens': 130, 'total_tokens': 336}}, 'kwargs': {'temperature': 0, 'max_tokens': 250, 'top_p': 1, 'frequency_penalty': 0, 'presence_penalty': 0, 'n': 1, 'model': '1 - Mistral-7B-Instruct-v0.2 - the best option in general - fast and good', 'prompt': \"Given a health question, generate a concise answer.\\n\\n---\\n\\nFollow the following format.\\n\\nQuestion: ${question}\\n\\nContext: A short text passage that is relevant to the question and should be cited in the answer.\\n\\nReasoning: Let's think step by step in order to ${produce the answer}. We ...\\n\\nAnswer: ${answer}\\n\\n---\\n\\nQuestion: How does Ibuprofen work to treat headaches?\\n\\nContext: Ipuprofen can be dangerous.\\n\\nReasoning: Let's think step by step in order to\"}, 'raw_kwargs': {}}\n",
      "\t{'prompt': \"Given a health question, generate a concise answer.\\n\\n---\\n\\nFollow the following format.\\n\\nQuestion: ${question}\\n\\nContext: A short text passage that is relevant to the question and should be cited in the answer.\\n\\nReasoning: Let's think step by step in order to ${produce the enough_context}. We ...\\n\\nAnswer: A short answer to the question that must use the provided context.\\n\\nEnough Context: Does the context provide enough relevant information to answer the question?\\n\\n---\\n\\nQuestion: How does Ibuprofen work to treat headaches?\\n\\nContext: Ipuprofen can be dangerous.\\n\\nReasoning: Let's think step by step in order to\", 'response': {'id': 'cmpl-iiDySeTqBsQhgX5tPGpqZ8', 'choices': [{'finish_reason': 'stop', 'index': 0, 'logprobs': None, 'text': ' understand how Ibuprofen works to treat headaches. Ibuprofen is a type of nonsteroidal anti-inflammatory drug (NSAID). It works by reducing the production of prostaglandins, which are hormone-like substances that cause pain and inflammation. In the case of a headache, the blood vessels in the head dilate, causing pain. Ibuprofen reduces the production of prostaglandins, which in turn causes the blood vessels to constrict, reducing the size of the blood vessels and alleviating the pain.\\n\\nAnswer: Ibuprofen is a nonsteroidal anti-inflammatory drug (NSAID) that works by reducing the production of prostaglandins, hormone-like substances that cause pain and inflammation. By reducing prostaglandin production, Ibuprofen causes the blood vessels in the head to constrict, reducing their size and alleviating headache pain.\\n\\nEnough Context: No, the context does not provide enough relevant information to answer the question. The context only mentions that Ibuprofen can be'}], 'created': 1719228079, 'model': '1 - Mistral-7B-Instruct-v0.2 - the best option in general - fast and good', 'object': 'text_completion', 'system_fingerprint': None, 'usage': {'completion_tokens': 250, 'prompt_tokens': 160, 'total_tokens': 410}}, 'kwargs': {'temperature': 0, 'max_tokens': 250, 'top_p': 1, 'frequency_penalty': 0, 'presence_penalty': 0, 'n': 1, 'model': '1 - Mistral-7B-Instruct-v0.2 - the best option in general - fast and good', 'prompt': \"Given a health question, generate a concise answer.\\n\\n---\\n\\nFollow the following format.\\n\\nQuestion: ${question}\\n\\nContext: A short text passage that is relevant to the question and should be cited in the answer.\\n\\nReasoning: Let's think step by step in order to ${produce the enough_context}. We ...\\n\\nAnswer: A short answer to the question that must use the provided context.\\n\\nEnough Context: Does the context provide enough relevant information to answer the question?\\n\\n---\\n\\nQuestion: How does Ibuprofen work to treat headaches?\\n\\nContext: Ipuprofen can be dangerous.\\n\\nReasoning: Let's think step by step in order to\"}, 'raw_kwargs': {}}\n",
      "\t{'prompt': \"Given a health question, generate a concise answer.\\n\\n---\\n\\nFollow the following format.\\n\\nQuestion: ${question}\\n\\nContext: A short text passage that is relevant to the question and should be cited in the answer.\\n\\nReasoning: Let's think step by step in order to ${produce the enough_context}. We ...\\n\\nAnswer: A short answer to the question that must use the provided context.\\n\\nEnough Context: 'yes' if the context provides enough relevant information to answer the question or 'no' otherwise.\\n\\n---\\n\\nQuestion: How does Ibuprofen work to treat headaches?\\n\\nContext: Ipuprofen can be dangerous.\\n\\nReasoning: Let's think step by step in order to\", 'response': {'id': 'cmpl-3Hqg38pWgz7gnTnFDyBv8X', 'choices': [{'finish_reason': 'stop', 'index': 0, 'logprobs': None, 'text': ' understand how Ibuprofen works to treat headaches. Ibuprofen is a nonsteroidal anti-inflammatory drug (NSAID). It works by inhibiting the production of prostaglandins, which are hormone-like substances that cause pain and inflammation. In the case of a headache, the blood vessels in the head dilate, causing pain. Ibuprofen reduces the production of prostaglandins, which in turn reduces inflammation and helps to narrow the blood vessels, relieving the headache.\\n\\nAnswer: Ibuprofen is a nonsteroidal anti-inflammatory drug (NSAID) that works by inhibiting the production of prostaglandins, hormone-like substances that cause pain and inflammation. By reducing the production of prostaglandins, Ibuprofen helps to narrow the blood vessels, relieving headache pain.\\n\\nEnough Context: No. The context provided does not mention anything about how Ibuprofen works to treat headaches.'}], 'created': 1719228160, 'model': '1 - Mistral-7B-Instruct-v0.2 - the best option in general - fast and good', 'object': 'text_completion', 'system_fingerprint': None, 'usage': {'completion_tokens': 232, 'prompt_tokens': 168, 'total_tokens': 400}}, 'kwargs': {'temperature': 0, 'max_tokens': 250, 'top_p': 1, 'frequency_penalty': 0, 'presence_penalty': 0, 'n': 1, 'model': '1 - Mistral-7B-Instruct-v0.2 - the best option in general - fast and good', 'prompt': \"Given a health question, generate a concise answer.\\n\\n---\\n\\nFollow the following format.\\n\\nQuestion: ${question}\\n\\nContext: A short text passage that is relevant to the question and should be cited in the answer.\\n\\nReasoning: Let's think step by step in order to ${produce the enough_context}. We ...\\n\\nAnswer: A short answer to the question that must use the provided context.\\n\\nEnough Context: 'yes' if the context provides enough relevant information to answer the question or 'no' otherwise.\\n\\n---\\n\\nQuestion: How does Ibuprofen work to treat headaches?\\n\\nContext: Ipuprofen can be dangerous.\\n\\nReasoning: Let's think step by step in order to\"}, 'raw_kwargs': {}}\n"
     ]
    },
    {
     "data": {
      "text/plain": [
       "Prediction(\n",
       "    rationale='understand how Ibuprofen works to treat headaches. Ibuprofen is a nonsteroidal anti-inflammatory drug (NSAID). It works by inhibiting the production of prostaglandins, which are hormone-like substances that cause pain and inflammation. In the case of a headache, the blood vessels in the head dilate, causing pain. Ibuprofen reduces the production of prostaglandins, which in turn reduces inflammation and helps to narrow the blood vessels, relieving the headache.',\n",
       "    answer='Ibuprofen is a nonsteroidal anti-inflammatory drug (NSAID) that works by inhibiting the production of prostaglandins, hormone-like substances that cause pain and inflammation. By reducing the production of prostaglandins, Ibuprofen helps to narrow the blood vessels, relieving headache pain.',\n",
       "    enough_context='No. The context provided does not mention anything about how Ibuprofen works to treat headaches.'\n",
       ")"
      ]
     },
     "execution_count": 45,
     "metadata": {},
     "output_type": "execute_result"
    }
   ],
   "source": [
    "answer_chain_of_thought = AnswerChainOfThought()\n",
    "answer_chain_of_thought(\n",
    "    question=\"How does Ibuprofen work to treat headaches?\",\n",
    "    # context=\"Ipuprofen inhibits the production of pain hormones.\",\n",
    "    context=\"Ipuprofen can be dangerous.\",\n",
    ")"
   ]
  },
  {
   "cell_type": "code",
   "execution_count": null,
   "metadata": {},
   "outputs": [],
   "source": []
  }
 ],
 "metadata": {
  "kernelspec": {
   "display_name": "venv",
   "language": "python",
   "name": "python3"
  },
  "language_info": {
   "codemirror_mode": {
    "name": "ipython",
    "version": 3
   },
   "file_extension": ".py",
   "mimetype": "text/x-python",
   "name": "python",
   "nbconvert_exporter": "python",
   "pygments_lexer": "ipython3",
   "version": "3.10.12"
  }
 },
 "nbformat": 4,
 "nbformat_minor": 2
}
